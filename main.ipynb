{
 "cells": [
  {
   "cell_type": "markdown",
   "id": "231b88c9",
   "metadata": {},
   "source": [
    "### Importing Libraries"
   ]
  },
  {
   "cell_type": "code",
   "execution_count": 1,
   "id": "63755699",
   "metadata": {},
   "outputs": [],
   "source": [
    "\n",
    "from Utils import DataUtils, resnet_block, InstanceNormalization\n",
    "from CycleGAN import CycleGAN\n",
    "from tensorflow.keras.layers import Conv2D, Conv2DTranspose, Activation, Input, LeakyReLU\n",
    "from tensorflow.keras.initializers import RandomNormal\n",
    "from tensorflow.keras.models import Model\n",
    "import os"
   ]
  },
  {
   "cell_type": "markdown",
   "id": "722e7359",
   "metadata": {},
   "source": [
    "### Data Loading and Visualization\n",
    "### Data Preprocessing\n",
    "### Model Building\n",
    "### Model Training"
   ]
  },
  {
   "cell_type": "code",
   "execution_count": 6,
   "id": "6d49be22",
   "metadata": {},
   "outputs": [],
   "source": [
    "class CycleGAN_TR1_TR2(CycleGAN):\n",
    "\n",
    "    def __init__(self, input_shape, checkpoint_path):\n",
    "        self.n_resnet = 3\n",
    "        super().__init__(input_shape, checkpoint_path)\n",
    "\n",
    "\n",
    "    def build_generator(self, image_shape):\n",
    "        # weight initialization\n",
    "        init = RandomNormal(stddev=0.02)\n",
    "        # image input\n",
    "        in_image = Input(shape=image_shape)\n",
    "        # c7s1-64\n",
    "        g = Conv2D(64, (7, 7), padding='same', kernel_initializer=init)(in_image)\n",
    "        g = InstanceNormalization()(g)\n",
    "        g = Activation('relu')(g)\n",
    "        # d128\n",
    "        g = Conv2D(128, (3, 3), strides=(2, 2), padding='same', kernel_initializer=init)(g)\n",
    "        g = InstanceNormalization()(g)\n",
    "        g = Activation('relu')(g)\n",
    "        # d256\n",
    "        g = Conv2D(256, (3, 3), strides=(2, 2), padding='same', kernel_initializer=init)(g)\n",
    "        g = InstanceNormalization()(g)\n",
    "        g = Activation('relu')(g)\n",
    "        # R256\n",
    "        for _ in range(self.n_resnet):\n",
    "            g = resnet_block(256, g)\n",
    "        # u128\n",
    "        g = Conv2DTranspose(128, (3, 3), strides=(2, 2), padding='same', kernel_initializer=init)(g)\n",
    "        g = InstanceNormalization()(g)\n",
    "        g = Activation('relu')(g)\n",
    "        # u64\n",
    "        g = Conv2DTranspose(64, (3, 3), strides=(2, 2), padding='same', kernel_initializer=init)(g)\n",
    "        g = InstanceNormalization()(g)\n",
    "        g = Activation('relu')(g)\n",
    "        # c7s1-3\n",
    "        g = Conv2D(1, (7, 7), padding='same', kernel_initializer=init)(g)\n",
    "        g = InstanceNormalization()(g)\n",
    "        out_image = Activation('tanh')(g)\n",
    "        # define model\n",
    "        model = Model(in_image, out_image)\n",
    "        return model\n",
    "\n",
    "    def build_discriminator(self, image_shape):\n",
    "        # weight initialization\n",
    "        init = RandomNormal(stddev=0.02)\n",
    "        # source image input\n",
    "        in_image = Input(shape=image_shape)\n",
    "        # C64\n",
    "        d = Conv2D(64, (4, 4), strides=(2, 2), padding='same', kernel_initializer=init)(in_image)\n",
    "        d = LeakyReLU(alpha=0.2)(d)\n",
    "        # C128\n",
    "        d = Conv2D(128, (4, 4), strides=(2, 2), padding='same', kernel_initializer=init)(d)\n",
    "        d = InstanceNormalization()(d)\n",
    "        d = LeakyReLU(alpha=0.2)(d)\n",
    "        # C256\n",
    "        d = Conv2D(256, (4, 4), strides=(2, 2), padding='same', kernel_initializer=init)(d)\n",
    "        d = InstanceNormalization()(d)\n",
    "        d = LeakyReLU(alpha=0.2)(d)\n",
    "        # C512\n",
    "        d = Conv2D(512, (4, 4), strides=(2, 2), padding='same', kernel_initializer=init)(d)\n",
    "        d = InstanceNormalization()(d)\n",
    "        d = LeakyReLU(alpha=0.2)(d)\n",
    "        # second last output layer\n",
    "        d = Conv2D(512, (4, 4), padding='same', kernel_initializer=init)(d)\n",
    "        d = InstanceNormalization()(d)\n",
    "        d = LeakyReLU(alpha=0.2)(d)\n",
    "        # patch output\n",
    "        patch_out = Conv2D(1, (4, 4), padding='same', kernel_initializer=init)(d)\n",
    "        # define model\n",
    "        model = Model(in_image, patch_out)\n",
    "        return model"
   ]
  },
  {
   "cell_type": "code",
   "execution_count": null,
   "id": "e1768cac",
   "metadata": {},
   "outputs": [],
   "source": [
    "if __name__ == '__main__':\n",
    "    path2TR1 = os.path.join(os.getcwd(), 'Tr1', 'TrainT1')\n",
    "    path2TR2 = os.path.join(os.getcwd(), 'Tr2', 'TrainT2')\n",
    "    checkpoint_path = os.path.join(os.getcwd(), 'Trained_Model4')\n",
    "\n",
    "    if not os.path.isdir(checkpoint_path):\n",
    "        os.mkdir(checkpoint_path)\n",
    "\n",
    "    batch_size = 4\n",
    "    epochs = 100\n",
    "    # load images from\n",
    "    images_x = DataUtils(path2TR1, (220,184)).get_data(batch_size)\n",
    "    images_y = DataUtils(path2TR2, (220,184)).get_data(batch_size)\n",
    "\n",
    "    sample_x_data = next(iter(images_x))\n",
    "    sample_y_data = next(iter(images_y))\n",
    "\n",
    "    cycleGan = CycleGAN_TR1_TR2((220,184,1), checkpoint_path)\n",
    "\n",
    "    cycleGan.train(images_x, images_y, epochs,plot_results=True, sample_data=(sample_x_data, sample_y_data))"
   ]
  },
  {
   "cell_type": "code",
   "execution_count": null,
   "id": "8dd0324c",
   "metadata": {},
   "outputs": [],
   "source": []
  }
 ],
 "metadata": {
  "kernelspec": {
   "display_name": "Python 3 (ipykernel)",
   "language": "python",
   "name": "python3"
  },
  "language_info": {
   "codemirror_mode": {
    "name": "ipython",
    "version": 3
   },
   "file_extension": ".py",
   "mimetype": "text/x-python",
   "name": "python",
   "nbconvert_exporter": "python",
   "pygments_lexer": "ipython3",
   "version": "3.9.7"
  }
 },
 "nbformat": 4,
 "nbformat_minor": 5
}
